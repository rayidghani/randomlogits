{
 "cells": [
  {
   "cell_type": "code",
   "execution_count": 1,
   "metadata": {
    "collapsed": true
   },
   "outputs": [],
   "source": [
    "from __future__ import division\n",
    "import pandas as pd\n",
    "import numpy as np\n",
    "from sklearn import preprocessing, cross_validation, svm, metrics, tree, decomposition, svm\n",
    "from sklearn.ensemble import BaggingClassifier, RandomForestClassifier, ExtraTreesClassifier, GradientBoostingClassifier, AdaBoostClassifier\n",
    "from sklearn.linear_model import LogisticRegression, Perceptron, SGDClassifier, OrthogonalMatchingPursuit, RandomizedLogisticRegression\n",
    "from sklearn.neighbors.nearest_centroid import NearestCentroid\n",
    "from sklearn.naive_bayes import GaussianNB, MultinomialNB, BernoulliNB\n",
    "from sklearn.tree import DecisionTreeClassifier\n",
    "from sklearn.neighbors import KNeighborsClassifier\n",
    "from sklearn.cross_validation import train_test_split\n",
    "from sklearn.grid_search import ParameterGrid\n",
    "from sklearn.metrics import *\n",
    "from sklearn.preprocessing import StandardScaler\n",
    "import random\n",
    "import pylab as pl\n",
    "import matplotlib.pyplot as plt\n",
    "from scipy import optimize\n",
    "import time\n",
    "\n",
    "%matplotlib inline"
   ]
  },
  {
   "cell_type": "code",
   "execution_count": 4,
   "metadata": {
    "collapsed": false
   },
   "outputs": [],
   "source": [
    "df = pd.read_csv(\"../cs-training.csv\")\n",
    "features  =  ['RevolvingUtilizationOfUnsecuredLines', 'DebtRatio', 'age', 'NumberOfTimes90DaysLate']\n",
    "X=df[features]\n",
    "Y=df.SeriousDlqin2yrs\n",
    "X_train, X_test, y_train, y_test = train_test_split(X, Y, test_size=0.3, random_state=0)"
   ]
  },
  {
   "cell_type": "code",
   "execution_count": 7,
   "metadata": {
    "collapsed": false
   },
   "outputs": [
    {
     "data": {
      "text/plain": [
       "BaggingClassifier(base_estimator=LogisticRegression(C=1.0, class_weight=None, dual=False, fit_intercept=True,\n",
       "          intercept_scaling=1, max_iter=100, multi_class='ovr', n_jobs=1,\n",
       "          penalty='l2', random_state=None, solver='liblinear', tol=0.0001,\n",
       "          verbose=0, warm_start=False),\n",
       "         bootstrap=True, bootstrap_features=False, max_features=2,\n",
       "         max_samples=1.0, n_estimators=20, n_jobs=1, oob_score=False,\n",
       "         random_state=None, verbose=0, warm_start=False)"
      ]
     },
     "execution_count": 7,
     "metadata": {},
     "output_type": "execute_result"
    }
   ],
   "source": [
    "# Random Logits\n",
    "num_logits = 20\n",
    "num_features = 2\n",
    "clf = BaggingClassifier(base_estimator = LogisticRegression(),n_estimators=num_logits, max_features = num_features)\n",
    "clf.fit(X_train, y_train)"
   ]
  },
  {
   "cell_type": "code",
   "execution_count": 10,
   "metadata": {
    "collapsed": false
   },
   "outputs": [
    {
     "name": "stdout",
     "output_type": "stream",
     "text": [
      "[[  3.67392304e-02  -6.00057139e-05]]\n",
      "[[ -2.71463340e-05  -3.25516633e-02]]\n",
      "[[  3.76742457e-02   2.09254821e-05]]\n",
      "[[ 0.03318251 -0.03285496]]\n",
      "[[-0.00032668 -0.00037608]]\n",
      "[[ -3.93412229e-05   3.52470551e-02]]\n",
      "[[ -3.36315576e-02  -7.60181556e-05]]\n",
      "[[ -1.56297515e-04  -6.79989991e-05]]\n",
      "[[ -3.24344484e-02  -4.83127029e-05]]\n",
      "[[-0.03254642  0.03120367]]\n",
      "[[ -3.35089388e-02  -2.85220629e-05]]\n",
      "[[-0.03381188 -0.00015845]]\n",
      "[[  3.75992334e-02  -3.93560243e-05]]\n",
      "[[ -2.06564950e-05  -3.34082316e-02]]\n",
      "[[-0.00010517 -0.03292757]]\n",
      "[[ -6.13492399e-05  -8.40369572e-05]]\n",
      "[[ -3.70296565e-05   3.64398812e-02]]\n",
      "[[-0.00018111 -0.03421633]]\n",
      "[[  3.56529546e-02  -5.05495706e-05]]\n",
      "[[  3.89288876e-02  -6.32205577e-05]]\n",
      "[3 0]\n",
      "[1 2]\n",
      "[3 0]\n",
      "[3 2]\n",
      "[0 1]\n",
      "[1 3]\n",
      "[2 0]\n",
      "[0 1]\n",
      "[2 0]\n",
      "[2 3]\n",
      "[2 1]\n",
      "[2 0]\n",
      "[3 1]\n",
      "[1 2]\n",
      "[0 2]\n",
      "[1 0]\n",
      "[1 3]\n",
      "[0 2]\n",
      "[3 1]\n",
      "[3 0]\n"
     ]
    }
   ],
   "source": [
    "# print feature importances and feature indices\n",
    "\n",
    "for logit in clf.estimators_:\n",
    "    print (logit.coef_)\n",
    "    \n",
    "for logit in clf.estimators_features_:\n",
    "    print (logit)"
   ]
  },
  {
   "cell_type": "code",
   "execution_count": 24,
   "metadata": {
    "collapsed": false
   },
   "outputs": [
    {
     "name": "stdout",
     "output_type": "stream",
     "text": [
      "[[ -6.00057139e-05              nan              nan   3.67392304e-02]\n",
      " [             nan  -2.71463340e-05  -3.25516633e-02              nan]\n",
      " [  2.09254821e-05              nan              nan   3.76742457e-02]\n",
      " [             nan              nan  -3.28549562e-02   3.31825087e-02]\n",
      " [ -3.26677735e-04  -3.76084334e-04              nan              nan]\n",
      " [             nan  -3.93412229e-05              nan   3.52470551e-02]\n",
      " [ -7.60181556e-05              nan  -3.36315576e-02              nan]\n",
      " [ -1.56297515e-04  -6.79989991e-05              nan              nan]\n",
      " [ -4.83127029e-05              nan  -3.24344484e-02              nan]\n",
      " [             nan              nan  -3.25464243e-02   3.12036699e-02]\n",
      " [             nan  -2.85220629e-05  -3.35089388e-02              nan]\n",
      " [ -1.58446999e-04              nan  -3.38118810e-02              nan]\n",
      " [             nan  -3.93560243e-05              nan   3.75992334e-02]\n",
      " [             nan  -2.06564950e-05  -3.34082316e-02              nan]\n",
      " [ -1.05174974e-04              nan  -3.29275729e-02              nan]\n",
      " [ -8.40369572e-05  -6.13492399e-05              nan              nan]\n",
      " [             nan  -3.70296565e-05              nan   3.64398812e-02]\n",
      " [ -1.81110597e-04              nan  -3.42163317e-02              nan]\n",
      " [             nan  -5.05495706e-05              nan   3.56529546e-02]\n",
      " [ -6.32205577e-05              nan              nan   3.89288876e-02]]\n",
      "mean is  [ -1.12579675e-04  -7.48033940e-05  -3.31892006e-02   3.58519630e-02]\n",
      "stdev is  [  8.73394647e-05   1.01425710e-04   5.79486864e-04   2.26353109e-03]\n"
     ]
    }
   ],
   "source": [
    "total_features = len(features)\n",
    "feature_importance_matrix = np.zeros((num_logits, total_features))\n",
    "row = 0\n",
    "for feature in clf.estimators_features_:\n",
    "    for i in range(num_features):\n",
    "        feature_importance_matrix[row][feature[i]] = clf.estimators_[row].coef_[0][i] \n",
    "    row += 1\n",
    "feature_importance_matrix[feature_importance_matrix==0]=['nan']\n",
    "#print feature_importance_matrix\n",
    "mean_importance_rl = np.nanmean(feature_importance_matrix, dtype=np.float64, axis=0)\n",
    "std_importance_rl = np.nanstd(feature_importance_matrix, dtype=np.float64,axis=0)\n",
    "\n",
    "#print \"mean is \", np.nanmean(feature_importance_matrix, dtype=np.float64, axis=0)\n",
    "#print \"stdev is \", np.nanstd(feature_importance_matrix, dtype=np.float64,axis=0)\n"
   ]
  },
  {
   "cell_type": "code",
   "execution_count": 12,
   "metadata": {
    "collapsed": false
   },
   "outputs": [
    {
     "data": {
      "text/plain": [
       "array([ 0.35072607,  0.38832715,  0.14217785,  0.11876893])"
      ]
     },
     "execution_count": 12,
     "metadata": {},
     "output_type": "execute_result"
    }
   ],
   "source": [
    "# let's compare it to RFs\n",
    "\n",
    "clfrf = RandomForestClassifier(n_estimators= num_logits, max_features = num_features, n_jobs=-1)\n",
    "clfrf.fit(X_train, y_train)\n",
    "clfrf.feature_importances_"
   ]
  },
  {
   "cell_type": "code",
   "execution_count": 27,
   "metadata": {
    "collapsed": true
   },
   "outputs": [],
   "source": [
    "def plot_feature_importance(mean_importance_array, std_importance_array, indices, label):\n",
    "    # Print the feature ranking\n",
    "    print(\"Ranking:\")\n",
    "\n",
    "    for f in range(X.shape[1]):\n",
    "        print(\"%d. feature %d (%f)\" % (f + 1, indices[f], mean_importance_array[indices[f]]))\n",
    "\n",
    "    # Plot the feature importances of the forest\n",
    "    plt.figure()\n",
    "    plt.title(label)\n",
    "    plt.bar(range(X.shape[1]), mean_importance_array[indices],\n",
    "            color=\"r\", yerr=std_importance_array[indices], align=\"center\")\n",
    "    plt.xticks(range(X.shape[1]), indices)\n",
    "    plt.xlim([-1, X.shape[1]])\n",
    "    plt.show()"
   ]
  },
  {
   "cell_type": "code",
   "execution_count": 28,
   "metadata": {
    "collapsed": false
   },
   "outputs": [
    {
     "name": "stdout",
     "output_type": "stream",
     "text": [
      "Ranking:\n",
      "1. feature 3 (0.035852)\n",
      "2. feature 2 (-0.033189)\n",
      "3. feature 0 (-0.000113)\n",
      "4. feature 1 (-0.000075)\n"
     ]
    },
    {
     "data": {
      "image/png": "[encoded data removed]",
      "text/plain": [
       "<matplotlib.figure.Figure at 0x10b2f2d10>"
      ]
     },
     "metadata": {},
     "output_type": "display_data"
    },
    {
     "name": "stdout",
     "output_type": "stream",
     "text": [
      "Ranking:\n",
      "1. feature 1 (0.388327)\n",
      "2. feature 0 (0.350726)\n",
      "3. feature 2 (0.142178)\n",
      "4. feature 3 (0.118769)\n"
     ]
    },
    {
     "data": {
      "image/png": "[encoded data removed]",
      "text/plain": [
       "<matplotlib.figure.Figure at 0x10b2f5ed0>"
      ]
     },
     "metadata": {},
     "output_type": "display_data"
    }
   ],
   "source": [
    "indices_rl = np.argsort(np.abs(mean_importance_rl))[::-1]\n",
    "# std_important_rl is buggy but will fix it later\n",
    "plot_feature_importance(mean_importance_rl, std_importance_rl, indices_rl, \"randomlogit\")\n",
    "\n",
    "importance_rf = clfrf.feature_importances_\n",
    "std_importance_rf = np.std([tree.feature_importances_ for tree in clfrf.estimators_],\n",
    "             axis=0)\n",
    "indices_rf = np.argsort(importance_rf)[::-1]\n",
    "plot_feature_importance(importance_rf, std_importance_rf, indices_rf, \"randomforest\")\n"
   ]
  }
 ],
 "metadata": {
  "kernelspec": {
   "display_name": "Python 2",
   "language": "python",
   "name": "python2"
  },
  "language_info": {
   "codemirror_mode": {
    "name": "ipython",
    "version": 2
   },
   "file_extension": ".py",
   "mimetype": "text/x-python",
   "name": "python",
   "nbconvert_exporter": "python",
   "pygments_lexer": "ipython2",
   "version": "2.7.11"
  }
 },
 "nbformat": 4,
 "nbformat_minor": 0
}
