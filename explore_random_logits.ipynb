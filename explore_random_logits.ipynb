{
 "cells": [
  {
   "cell_type": "code",
   "execution_count": 8,
   "metadata": {
    "collapsed": false
   },
   "outputs": [],
   "source": [
    "import randomlogits\n",
    "from sklearn.ensemble import RandomForestClassifier\n",
    "import numpy as np\n",
    "import matplotlib.pyplot as plt\n",
    "%matplotlib inline\n"
   ]
  },
  {
   "cell_type": "code",
   "execution_count": 2,
   "metadata": {
    "collapsed": false
   },
   "outputs": [],
   "source": [
    "from sklearn.datasets import make_classification\n",
    "from sklearn.cross_validation import train_test_split\n",
    "\n",
    "\n",
    "X, Y = make_classification(n_samples= 10000, n_features=50, n_redundant=10, n_informative=10,\n",
    "                           random_state=1, n_clusters_per_class=3, n_repeated = 10)\n",
    "\n",
    "X_train, X_test, y_train, y_test = train_test_split(X, Y, test_size=0.2, random_state=0)"
   ]
  },
  {
   "cell_type": "code",
   "execution_count": 3,
   "metadata": {
    "collapsed": false
   },
   "outputs": [],
   "source": [
    "clfrl = randomlogits.TrainRandomLogits(X = X_train, y = y_train, n_logits = 100, n_features = 10)"
   ]
  },
  {
   "cell_type": "code",
   "execution_count": 4,
   "metadata": {
    "collapsed": false
   },
   "outputs": [],
   "source": [
    "a, mean_importance_rl, std_importance_rl = randomlogits.GetFeatureImportances(clfrl)"
   ]
  },
  {
   "cell_type": "code",
   "execution_count": 5,
   "metadata": {
    "collapsed": false
   },
   "outputs": [
    {
     "data": {
      "text/plain": [
       "array([ 0.02033336,  0.00533572,  0.0292774 ,  0.03597396,  0.01687007,\n",
       "        0.04958983,  0.00592465,  0.02149501,  0.01510587,  0.00528543,\n",
       "        0.01549043,  0.02596944,  0.03276557,  0.02252739,  0.00500365,\n",
       "        0.00528963,  0.00506764,  0.02223921,  0.01267846,  0.00494682,\n",
       "        0.00532747,  0.01702785,  0.02483606,  0.00548583,  0.09992362,\n",
       "        0.0174489 ,  0.02083087,  0.00550397,  0.03811513,  0.02956013,\n",
       "        0.00564005,  0.00521932,  0.00518984,  0.00493216,  0.02248832,\n",
       "        0.02257051,  0.01340965,  0.03970713,  0.02577827,  0.02605057,\n",
       "        0.01949359,  0.02343103,  0.00456829,  0.03968641,  0.094011  ,\n",
       "        0.00484596,  0.00554784,  0.00576048,  0.0052635 ,  0.00517671])"
      ]
     },
     "execution_count": 5,
     "metadata": {},
     "output_type": "execute_result"
    }
   ],
   "source": [
    "# let's compare it to RFs\n",
    "\n",
    "clfrf = RandomForestClassifier(n_estimators= 100, max_features = 10, n_jobs=-1)\n",
    "clfrf.fit(X_train, y_train)\n",
    "clfrf.feature_importances_"
   ]
  },
  {
   "cell_type": "code",
   "execution_count": 6,
   "metadata": {
    "collapsed": true
   },
   "outputs": [],
   "source": [
    "def plot_feature_importance(mean_importance_array, std_importance_array, indices, label):\n",
    "    # Print the feature ranking\n",
    "    print(\"Ranking:\")\n",
    "\n",
    "    for f in range(X.shape[1]):\n",
    "        print(\"%d. feature %d (%f)\" % (f + 1, indices[f], mean_importance_array[indices[f]]))\n",
    "\n",
    "    # Plot the feature importances of the forest\n",
    "    plt.figure()\n",
    "    plt.title(label)\n",
    "    plt.bar(range(X.shape[1]), mean_importance_array[indices],\n",
    "            color=\"r\", yerr=std_importance_array[indices], align=\"center\")\n",
    "    plt.xticks(range(X.shape[1]), indices)\n",
    "    plt.xlim([-1, X.shape[1]])\n",
    "    plt.show()"
   ]
  },
  {
   "cell_type": "code",
   "execution_count": 9,
   "metadata": {
    "collapsed": false
   },
   "outputs": [
    {
     "name": "stdout",
     "output_type": "stream",
     "text": [
      "Ranking:\n",
      "1. feature 24 (-0.555619)\n",
      "2. feature 44 (0.294989)\n",
      "3. feature 38 (-0.271826)\n",
      "4. feature 39 (-0.247773)\n",
      "5. feature 34 (0.208492)\n",
      "6. feature 35 (-0.203962)\n",
      "7. feature 41 (-0.197919)\n",
      "8. feature 7 (0.182759)\n",
      "9. feature 5 (0.159641)\n",
      "10. feature 2 (-0.157674)\n",
      "11. feature 28 (0.150378)\n",
      "12. feature 25 (0.140265)\n",
      "13. feature 22 (-0.130270)\n",
      "14. feature 36 (0.127572)\n",
      "15. feature 0 (0.120967)\n",
      "16. feature 40 (-0.115641)\n",
      "17. feature 3 (0.113937)\n",
      "18. feature 11 (0.110226)\n",
      "19. feature 37 (-0.099986)\n",
      "20. feature 17 (0.098899)\n",
      "21. feature 29 (-0.093808)\n",
      "22. feature 13 (0.093699)\n",
      "23. feature 43 (0.090731)\n",
      "24. feature 10 (-0.088707)\n",
      "25. feature 21 (0.085420)\n",
      "26. feature 42 (0.064123)\n",
      "27. feature 4 (0.061300)\n",
      "28. feature 12 (-0.053974)\n",
      "29. feature 20 (-0.039782)\n",
      "30. feature 48 (-0.035070)\n",
      "31. feature 23 (-0.034492)\n",
      "32. feature 18 (0.032800)\n",
      "33. feature 33 (-0.032361)\n",
      "34. feature 46 (-0.032111)\n",
      "35. feature 1 (-0.029207)\n",
      "36. feature 26 (0.023840)\n",
      "37. feature 19 (-0.023566)\n",
      "38. feature 14 (-0.022739)\n",
      "39. feature 9 (0.020147)\n",
      "40. feature 47 (-0.019367)\n",
      "41. feature 31 (-0.018675)\n",
      "42. feature 30 (0.017909)\n",
      "43. feature 45 (0.016995)\n",
      "44. feature 49 (0.016949)\n",
      "45. feature 27 (-0.015931)\n",
      "46. feature 15 (0.010589)\n",
      "47. feature 6 (0.010106)\n",
      "48. feature 32 (0.008840)\n",
      "49. feature 8 (-0.005501)\n",
      "50. feature 16 (-0.003915)\n"
     ]
    },
    {
     "data": {
      "image/png": "[encoded data removed]",
      "text/plain": [
       "<matplotlib.figure.Figure at 0x10e948d10>"
      ]
     },
     "metadata": {},
     "output_type": "display_data"
    },
    {
     "name": "stdout",
     "output_type": "stream",
     "text": [
      "Ranking:\n",
      "1. feature 24 (0.099924)\n",
      "2. feature 44 (0.094011)\n",
      "3. feature 5 (0.049590)\n",
      "4. feature 37 (0.039707)\n",
      "5. feature 43 (0.039686)\n",
      "6. feature 28 (0.038115)\n",
      "7. feature 3 (0.035974)\n",
      "8. feature 12 (0.032766)\n",
      "9. feature 29 (0.029560)\n",
      "10. feature 2 (0.029277)\n",
      "11. feature 39 (0.026051)\n",
      "12. feature 11 (0.025969)\n",
      "13. feature 38 (0.025778)\n",
      "14. feature 22 (0.024836)\n",
      "15. feature 41 (0.023431)\n",
      "16. feature 35 (0.022571)\n",
      "17. feature 13 (0.022527)\n",
      "18. feature 34 (0.022488)\n",
      "19. feature 17 (0.022239)\n",
      "20. feature 7 (0.021495)\n",
      "21. feature 26 (0.020831)\n",
      "22. feature 0 (0.020333)\n",
      "23. feature 40 (0.019494)\n",
      "24. feature 25 (0.017449)\n",
      "25. feature 21 (0.017028)\n",
      "26. feature 4 (0.016870)\n",
      "27. feature 10 (0.015490)\n",
      "28. feature 8 (0.015106)\n",
      "29. feature 36 (0.013410)\n",
      "30. feature 18 (0.012678)\n",
      "31. feature 6 (0.005925)\n",
      "32. feature 47 (0.005760)\n",
      "33. feature 30 (0.005640)\n",
      "34. feature 46 (0.005548)\n",
      "35. feature 27 (0.005504)\n",
      "36. feature 23 (0.005486)\n",
      "37. feature 1 (0.005336)\n",
      "38. feature 20 (0.005327)\n",
      "39. feature 15 (0.005290)\n",
      "40. feature 9 (0.005285)\n",
      "41. feature 48 (0.005263)\n",
      "42. feature 31 (0.005219)\n",
      "43. feature 32 (0.005190)\n",
      "44. feature 49 (0.005177)\n",
      "45. feature 16 (0.005068)\n",
      "46. feature 14 (0.005004)\n",
      "47. feature 19 (0.004947)\n",
      "48. feature 33 (0.004932)\n",
      "49. feature 45 (0.004846)\n",
      "50. feature 42 (0.004568)\n"
     ]
    },
    {
     "data": {
      "image/png": "[encoded data removed]",
      "text/plain": [
       "<matplotlib.figure.Figure at 0x10ea0a710>"
      ]
     },
     "metadata": {},
     "output_type": "display_data"
    }
   ],
   "source": [
    "indices_rl = np.argsort(np.abs(mean_importance_rl))[::-1]\n",
    "# std_important_rl is buggy but will fix it later\n",
    "plot_feature_importance(mean_importance_rl, std_importance_rl, indices_rl, \"randomlogit\")\n",
    "\n",
    "importance_rf = clfrf.feature_importances_\n",
    "std_importance_rf = np.std([tree.feature_importances_ for tree in clfrf.estimators_],\n",
    "             axis=0)\n",
    "indices_rf = np.argsort(importance_rf)[::-1]\n",
    "plot_feature_importance(importance_rf, std_importance_rf, indices_rf, \"randomforest\")\n"
   ]
  },
  {
   "cell_type": "code",
   "execution_count": null,
   "metadata": {
    "collapsed": true
   },
   "outputs": [],
   "source": []
  }
 ],
 "metadata": {
  "kernelspec": {
   "display_name": "Python 2",
   "language": "python",
   "name": "python2"
  },
  "language_info": {
   "codemirror_mode": {
    "name": "ipython",
    "version": 2
   },
   "file_extension": ".py",
   "mimetype": "text/x-python",
   "name": "python",
   "nbconvert_exporter": "python",
   "pygments_lexer": "ipython2",
   "version": "2.7.11"
  }
 },
 "nbformat": 4,
 "nbformat_minor": 0
}
